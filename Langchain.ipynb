{
  "cells": [
    {
      "cell_type": "code",
      "execution_count": 1,
      "metadata": {
        "colab": {
          "base_uri": "https://localhost:8080/"
        },
        "id": "5rdAYZepFhJM",
        "outputId": "88dc1d21-2b02-47e6-cb18-2545a9bd4719"
      },
      "outputs": [],
      "source": [
        "# cd /Users/dhiveshakilan/Learning/Python/AI/IntelliAISupport\n",
        "# python3.12 -m venv IntelliAISupport\n",
        "# source IntelliAISupport/bin/activate"
      ]
    },
    {
      "cell_type": "code",
      "execution_count": 2,
      "metadata": {},
      "outputs": [
        {
          "name": "stdout",
          "output_type": "stream",
          "text": [
            "Requirement already satisfied: langchain in /Library/Frameworks/Python.framework/Versions/3.12/lib/python3.12/site-packages (0.3.3)\n",
            "Requirement already satisfied: PyYAML>=5.3 in /Library/Frameworks/Python.framework/Versions/3.12/lib/python3.12/site-packages (from langchain) (6.0.2)\n",
            "Requirement already satisfied: SQLAlchemy<3,>=1.4 in /Library/Frameworks/Python.framework/Versions/3.12/lib/python3.12/site-packages (from langchain) (2.0.36)\n",
            "Requirement already satisfied: aiohttp<4.0.0,>=3.8.3 in /Library/Frameworks/Python.framework/Versions/3.12/lib/python3.12/site-packages (from langchain) (3.10.10)\n",
            "Requirement already satisfied: langchain-core<0.4.0,>=0.3.10 in /Library/Frameworks/Python.framework/Versions/3.12/lib/python3.12/site-packages (from langchain) (0.3.12)\n",
            "Requirement already satisfied: langchain-text-splitters<0.4.0,>=0.3.0 in /Library/Frameworks/Python.framework/Versions/3.12/lib/python3.12/site-packages (from langchain) (0.3.0)\n",
            "Requirement already satisfied: langsmith<0.2.0,>=0.1.17 in /Library/Frameworks/Python.framework/Versions/3.12/lib/python3.12/site-packages (from langchain) (0.1.135)\n",
            "Requirement already satisfied: numpy<2.0.0,>=1.26.0 in /Library/Frameworks/Python.framework/Versions/3.12/lib/python3.12/site-packages (from langchain) (1.26.4)\n",
            "Requirement already satisfied: pydantic<3.0.0,>=2.7.4 in /Library/Frameworks/Python.framework/Versions/3.12/lib/python3.12/site-packages (from langchain) (2.9.2)\n",
            "Requirement already satisfied: requests<3,>=2 in /Library/Frameworks/Python.framework/Versions/3.12/lib/python3.12/site-packages (from langchain) (2.32.3)\n",
            "Requirement already satisfied: tenacity!=8.4.0,<9.0.0,>=8.1.0 in /Library/Frameworks/Python.framework/Versions/3.12/lib/python3.12/site-packages (from langchain) (8.5.0)\n",
            "Requirement already satisfied: aiohappyeyeballs>=2.3.0 in /Library/Frameworks/Python.framework/Versions/3.12/lib/python3.12/site-packages (from aiohttp<4.0.0,>=3.8.3->langchain) (2.4.3)\n",
            "Requirement already satisfied: aiosignal>=1.1.2 in /Library/Frameworks/Python.framework/Versions/3.12/lib/python3.12/site-packages (from aiohttp<4.0.0,>=3.8.3->langchain) (1.3.1)\n",
            "Requirement already satisfied: attrs>=17.3.0 in /Library/Frameworks/Python.framework/Versions/3.12/lib/python3.12/site-packages (from aiohttp<4.0.0,>=3.8.3->langchain) (24.2.0)\n",
            "Requirement already satisfied: frozenlist>=1.1.1 in /Library/Frameworks/Python.framework/Versions/3.12/lib/python3.12/site-packages (from aiohttp<4.0.0,>=3.8.3->langchain) (1.4.1)\n",
            "Requirement already satisfied: multidict<7.0,>=4.5 in /Library/Frameworks/Python.framework/Versions/3.12/lib/python3.12/site-packages (from aiohttp<4.0.0,>=3.8.3->langchain) (6.1.0)\n",
            "Requirement already satisfied: yarl<2.0,>=1.12.0 in /Library/Frameworks/Python.framework/Versions/3.12/lib/python3.12/site-packages (from aiohttp<4.0.0,>=3.8.3->langchain) (1.15.4)\n",
            "Requirement already satisfied: jsonpatch<2.0,>=1.33 in /Library/Frameworks/Python.framework/Versions/3.12/lib/python3.12/site-packages (from langchain-core<0.4.0,>=0.3.10->langchain) (1.33)\n",
            "Requirement already satisfied: packaging<25,>=23.2 in /Users/dhiveshakilan/Library/Python/3.12/lib/python/site-packages (from langchain-core<0.4.0,>=0.3.10->langchain) (24.1)\n",
            "Requirement already satisfied: typing-extensions>=4.7 in /Library/Frameworks/Python.framework/Versions/3.12/lib/python3.12/site-packages (from langchain-core<0.4.0,>=0.3.10->langchain) (4.12.2)\n",
            "Requirement already satisfied: httpx<1,>=0.23.0 in /Library/Frameworks/Python.framework/Versions/3.12/lib/python3.12/site-packages (from langsmith<0.2.0,>=0.1.17->langchain) (0.27.2)\n",
            "Requirement already satisfied: orjson<4.0.0,>=3.9.14 in /Library/Frameworks/Python.framework/Versions/3.12/lib/python3.12/site-packages (from langsmith<0.2.0,>=0.1.17->langchain) (3.10.7)\n",
            "Requirement already satisfied: requests-toolbelt<2.0.0,>=1.0.0 in /Library/Frameworks/Python.framework/Versions/3.12/lib/python3.12/site-packages (from langsmith<0.2.0,>=0.1.17->langchain) (1.0.0)\n",
            "Requirement already satisfied: annotated-types>=0.6.0 in /Library/Frameworks/Python.framework/Versions/3.12/lib/python3.12/site-packages (from pydantic<3.0.0,>=2.7.4->langchain) (0.7.0)\n",
            "Requirement already satisfied: pydantic-core==2.23.4 in /Library/Frameworks/Python.framework/Versions/3.12/lib/python3.12/site-packages (from pydantic<3.0.0,>=2.7.4->langchain) (2.23.4)\n",
            "Requirement already satisfied: charset-normalizer<4,>=2 in /Library/Frameworks/Python.framework/Versions/3.12/lib/python3.12/site-packages (from requests<3,>=2->langchain) (3.4.0)\n",
            "Requirement already satisfied: idna<4,>=2.5 in /Library/Frameworks/Python.framework/Versions/3.12/lib/python3.12/site-packages (from requests<3,>=2->langchain) (3.10)\n",
            "Requirement already satisfied: urllib3<3,>=1.21.1 in /Library/Frameworks/Python.framework/Versions/3.12/lib/python3.12/site-packages (from requests<3,>=2->langchain) (2.2.3)\n",
            "Requirement already satisfied: certifi>=2017.4.17 in /Library/Frameworks/Python.framework/Versions/3.12/lib/python3.12/site-packages (from requests<3,>=2->langchain) (2024.8.30)\n",
            "Requirement already satisfied: anyio in /Library/Frameworks/Python.framework/Versions/3.12/lib/python3.12/site-packages (from httpx<1,>=0.23.0->langsmith<0.2.0,>=0.1.17->langchain) (4.6.2.post1)\n",
            "Requirement already satisfied: httpcore==1.* in /Library/Frameworks/Python.framework/Versions/3.12/lib/python3.12/site-packages (from httpx<1,>=0.23.0->langsmith<0.2.0,>=0.1.17->langchain) (1.0.6)\n",
            "Requirement already satisfied: sniffio in /Library/Frameworks/Python.framework/Versions/3.12/lib/python3.12/site-packages (from httpx<1,>=0.23.0->langsmith<0.2.0,>=0.1.17->langchain) (1.3.1)\n",
            "Requirement already satisfied: h11<0.15,>=0.13 in /Library/Frameworks/Python.framework/Versions/3.12/lib/python3.12/site-packages (from httpcore==1.*->httpx<1,>=0.23.0->langsmith<0.2.0,>=0.1.17->langchain) (0.14.0)\n",
            "Requirement already satisfied: jsonpointer>=1.9 in /Library/Frameworks/Python.framework/Versions/3.12/lib/python3.12/site-packages (from jsonpatch<2.0,>=1.33->langchain-core<0.4.0,>=0.3.10->langchain) (3.0.0)\n",
            "Requirement already satisfied: propcache>=0.2.0 in /Library/Frameworks/Python.framework/Versions/3.12/lib/python3.12/site-packages (from yarl<2.0,>=1.12.0->aiohttp<4.0.0,>=3.8.3->langchain) (0.2.0)\n",
            "Requirement already satisfied: langchain-community in /Library/Frameworks/Python.framework/Versions/3.12/lib/python3.12/site-packages (0.3.2)\n",
            "Requirement already satisfied: PyYAML>=5.3 in /Library/Frameworks/Python.framework/Versions/3.12/lib/python3.12/site-packages (from langchain-community) (6.0.2)\n",
            "Requirement already satisfied: SQLAlchemy<3,>=1.4 in /Library/Frameworks/Python.framework/Versions/3.12/lib/python3.12/site-packages (from langchain-community) (2.0.36)\n",
            "Requirement already satisfied: aiohttp<4.0.0,>=3.8.3 in /Library/Frameworks/Python.framework/Versions/3.12/lib/python3.12/site-packages (from langchain-community) (3.10.10)\n",
            "Requirement already satisfied: dataclasses-json<0.7,>=0.5.7 in /Library/Frameworks/Python.framework/Versions/3.12/lib/python3.12/site-packages (from langchain-community) (0.6.7)\n",
            "Requirement already satisfied: langchain<0.4.0,>=0.3.3 in /Library/Frameworks/Python.framework/Versions/3.12/lib/python3.12/site-packages (from langchain-community) (0.3.3)\n",
            "Requirement already satisfied: langchain-core<0.4.0,>=0.3.10 in /Library/Frameworks/Python.framework/Versions/3.12/lib/python3.12/site-packages (from langchain-community) (0.3.12)\n",
            "Requirement already satisfied: langsmith<0.2.0,>=0.1.125 in /Library/Frameworks/Python.framework/Versions/3.12/lib/python3.12/site-packages (from langchain-community) (0.1.135)\n",
            "Requirement already satisfied: numpy<2.0.0,>=1.26.0 in /Library/Frameworks/Python.framework/Versions/3.12/lib/python3.12/site-packages (from langchain-community) (1.26.4)\n",
            "Requirement already satisfied: pydantic-settings<3.0.0,>=2.4.0 in /Library/Frameworks/Python.framework/Versions/3.12/lib/python3.12/site-packages (from langchain-community) (2.6.0)\n",
            "Requirement already satisfied: requests<3,>=2 in /Library/Frameworks/Python.framework/Versions/3.12/lib/python3.12/site-packages (from langchain-community) (2.32.3)\n",
            "Requirement already satisfied: tenacity!=8.4.0,<9.0.0,>=8.1.0 in /Library/Frameworks/Python.framework/Versions/3.12/lib/python3.12/site-packages (from langchain-community) (8.5.0)\n",
            "Requirement already satisfied: aiohappyeyeballs>=2.3.0 in /Library/Frameworks/Python.framework/Versions/3.12/lib/python3.12/site-packages (from aiohttp<4.0.0,>=3.8.3->langchain-community) (2.4.3)\n",
            "Requirement already satisfied: aiosignal>=1.1.2 in /Library/Frameworks/Python.framework/Versions/3.12/lib/python3.12/site-packages (from aiohttp<4.0.0,>=3.8.3->langchain-community) (1.3.1)\n",
            "Requirement already satisfied: attrs>=17.3.0 in /Library/Frameworks/Python.framework/Versions/3.12/lib/python3.12/site-packages (from aiohttp<4.0.0,>=3.8.3->langchain-community) (24.2.0)\n",
            "Requirement already satisfied: frozenlist>=1.1.1 in /Library/Frameworks/Python.framework/Versions/3.12/lib/python3.12/site-packages (from aiohttp<4.0.0,>=3.8.3->langchain-community) (1.4.1)\n",
            "Requirement already satisfied: multidict<7.0,>=4.5 in /Library/Frameworks/Python.framework/Versions/3.12/lib/python3.12/site-packages (from aiohttp<4.0.0,>=3.8.3->langchain-community) (6.1.0)\n",
            "Requirement already satisfied: yarl<2.0,>=1.12.0 in /Library/Frameworks/Python.framework/Versions/3.12/lib/python3.12/site-packages (from aiohttp<4.0.0,>=3.8.3->langchain-community) (1.15.4)\n",
            "Requirement already satisfied: marshmallow<4.0.0,>=3.18.0 in /Library/Frameworks/Python.framework/Versions/3.12/lib/python3.12/site-packages (from dataclasses-json<0.7,>=0.5.7->langchain-community) (3.22.0)\n",
            "Requirement already satisfied: typing-inspect<1,>=0.4.0 in /Library/Frameworks/Python.framework/Versions/3.12/lib/python3.12/site-packages (from dataclasses-json<0.7,>=0.5.7->langchain-community) (0.9.0)\n",
            "Requirement already satisfied: langchain-text-splitters<0.4.0,>=0.3.0 in /Library/Frameworks/Python.framework/Versions/3.12/lib/python3.12/site-packages (from langchain<0.4.0,>=0.3.3->langchain-community) (0.3.0)\n",
            "Requirement already satisfied: pydantic<3.0.0,>=2.7.4 in /Library/Frameworks/Python.framework/Versions/3.12/lib/python3.12/site-packages (from langchain<0.4.0,>=0.3.3->langchain-community) (2.9.2)\n",
            "Requirement already satisfied: jsonpatch<2.0,>=1.33 in /Library/Frameworks/Python.framework/Versions/3.12/lib/python3.12/site-packages (from langchain-core<0.4.0,>=0.3.10->langchain-community) (1.33)\n",
            "Requirement already satisfied: packaging<25,>=23.2 in /Users/dhiveshakilan/Library/Python/3.12/lib/python/site-packages (from langchain-core<0.4.0,>=0.3.10->langchain-community) (24.1)\n",
            "Requirement already satisfied: typing-extensions>=4.7 in /Library/Frameworks/Python.framework/Versions/3.12/lib/python3.12/site-packages (from langchain-core<0.4.0,>=0.3.10->langchain-community) (4.12.2)\n",
            "Requirement already satisfied: httpx<1,>=0.23.0 in /Library/Frameworks/Python.framework/Versions/3.12/lib/python3.12/site-packages (from langsmith<0.2.0,>=0.1.125->langchain-community) (0.27.2)\n",
            "Requirement already satisfied: orjson<4.0.0,>=3.9.14 in /Library/Frameworks/Python.framework/Versions/3.12/lib/python3.12/site-packages (from langsmith<0.2.0,>=0.1.125->langchain-community) (3.10.7)\n",
            "Requirement already satisfied: requests-toolbelt<2.0.0,>=1.0.0 in /Library/Frameworks/Python.framework/Versions/3.12/lib/python3.12/site-packages (from langsmith<0.2.0,>=0.1.125->langchain-community) (1.0.0)\n",
            "Requirement already satisfied: python-dotenv>=0.21.0 in /Library/Frameworks/Python.framework/Versions/3.12/lib/python3.12/site-packages (from pydantic-settings<3.0.0,>=2.4.0->langchain-community) (1.0.1)\n",
            "Requirement already satisfied: charset-normalizer<4,>=2 in /Library/Frameworks/Python.framework/Versions/3.12/lib/python3.12/site-packages (from requests<3,>=2->langchain-community) (3.4.0)\n",
            "Requirement already satisfied: idna<4,>=2.5 in /Library/Frameworks/Python.framework/Versions/3.12/lib/python3.12/site-packages (from requests<3,>=2->langchain-community) (3.10)\n",
            "Requirement already satisfied: urllib3<3,>=1.21.1 in /Library/Frameworks/Python.framework/Versions/3.12/lib/python3.12/site-packages (from requests<3,>=2->langchain-community) (2.2.3)\n",
            "Requirement already satisfied: certifi>=2017.4.17 in /Library/Frameworks/Python.framework/Versions/3.12/lib/python3.12/site-packages (from requests<3,>=2->langchain-community) (2024.8.30)\n",
            "Requirement already satisfied: anyio in /Library/Frameworks/Python.framework/Versions/3.12/lib/python3.12/site-packages (from httpx<1,>=0.23.0->langsmith<0.2.0,>=0.1.125->langchain-community) (4.6.2.post1)\n",
            "Requirement already satisfied: httpcore==1.* in /Library/Frameworks/Python.framework/Versions/3.12/lib/python3.12/site-packages (from httpx<1,>=0.23.0->langsmith<0.2.0,>=0.1.125->langchain-community) (1.0.6)\n",
            "Requirement already satisfied: sniffio in /Library/Frameworks/Python.framework/Versions/3.12/lib/python3.12/site-packages (from httpx<1,>=0.23.0->langsmith<0.2.0,>=0.1.125->langchain-community) (1.3.1)\n",
            "Requirement already satisfied: h11<0.15,>=0.13 in /Library/Frameworks/Python.framework/Versions/3.12/lib/python3.12/site-packages (from httpcore==1.*->httpx<1,>=0.23.0->langsmith<0.2.0,>=0.1.125->langchain-community) (0.14.0)\n",
            "Requirement already satisfied: jsonpointer>=1.9 in /Library/Frameworks/Python.framework/Versions/3.12/lib/python3.12/site-packages (from jsonpatch<2.0,>=1.33->langchain-core<0.4.0,>=0.3.10->langchain-community) (3.0.0)\n",
            "Requirement already satisfied: annotated-types>=0.6.0 in /Library/Frameworks/Python.framework/Versions/3.12/lib/python3.12/site-packages (from pydantic<3.0.0,>=2.7.4->langchain<0.4.0,>=0.3.3->langchain-community) (0.7.0)\n",
            "Requirement already satisfied: pydantic-core==2.23.4 in /Library/Frameworks/Python.framework/Versions/3.12/lib/python3.12/site-packages (from pydantic<3.0.0,>=2.7.4->langchain<0.4.0,>=0.3.3->langchain-community) (2.23.4)\n",
            "Requirement already satisfied: mypy-extensions>=0.3.0 in /Library/Frameworks/Python.framework/Versions/3.12/lib/python3.12/site-packages (from typing-inspect<1,>=0.4.0->dataclasses-json<0.7,>=0.5.7->langchain-community) (1.0.0)\n",
            "Requirement already satisfied: propcache>=0.2.0 in /Library/Frameworks/Python.framework/Versions/3.12/lib/python3.12/site-packages (from yarl<2.0,>=1.12.0->aiohttp<4.0.0,>=3.8.3->langchain-community) (0.2.0)\n",
            "Requirement already satisfied: openai in /Library/Frameworks/Python.framework/Versions/3.12/lib/python3.12/site-packages (1.51.2)\n",
            "Requirement already satisfied: anyio<5,>=3.5.0 in /Library/Frameworks/Python.framework/Versions/3.12/lib/python3.12/site-packages (from openai) (4.6.2.post1)\n",
            "Requirement already satisfied: distro<2,>=1.7.0 in /Library/Frameworks/Python.framework/Versions/3.12/lib/python3.12/site-packages (from openai) (1.9.0)\n",
            "Requirement already satisfied: httpx<1,>=0.23.0 in /Library/Frameworks/Python.framework/Versions/3.12/lib/python3.12/site-packages (from openai) (0.27.2)\n",
            "Requirement already satisfied: jiter<1,>=0.4.0 in /Library/Frameworks/Python.framework/Versions/3.12/lib/python3.12/site-packages (from openai) (0.6.1)\n",
            "Requirement already satisfied: pydantic<3,>=1.9.0 in /Library/Frameworks/Python.framework/Versions/3.12/lib/python3.12/site-packages (from openai) (2.9.2)\n",
            "Requirement already satisfied: sniffio in /Library/Frameworks/Python.framework/Versions/3.12/lib/python3.12/site-packages (from openai) (1.3.1)\n",
            "Requirement already satisfied: tqdm>4 in /Library/Frameworks/Python.framework/Versions/3.12/lib/python3.12/site-packages (from openai) (4.66.5)\n",
            "Requirement already satisfied: typing-extensions<5,>=4.11 in /Library/Frameworks/Python.framework/Versions/3.12/lib/python3.12/site-packages (from openai) (4.12.2)\n",
            "Requirement already satisfied: idna>=2.8 in /Library/Frameworks/Python.framework/Versions/3.12/lib/python3.12/site-packages (from anyio<5,>=3.5.0->openai) (3.10)\n",
            "Requirement already satisfied: certifi in /Library/Frameworks/Python.framework/Versions/3.12/lib/python3.12/site-packages (from httpx<1,>=0.23.0->openai) (2024.8.30)\n",
            "Requirement already satisfied: httpcore==1.* in /Library/Frameworks/Python.framework/Versions/3.12/lib/python3.12/site-packages (from httpx<1,>=0.23.0->openai) (1.0.6)\n",
            "Requirement already satisfied: h11<0.15,>=0.13 in /Library/Frameworks/Python.framework/Versions/3.12/lib/python3.12/site-packages (from httpcore==1.*->httpx<1,>=0.23.0->openai) (0.14.0)\n",
            "Requirement already satisfied: annotated-types>=0.6.0 in /Library/Frameworks/Python.framework/Versions/3.12/lib/python3.12/site-packages (from pydantic<3,>=1.9.0->openai) (0.7.0)\n",
            "Requirement already satisfied: pydantic-core==2.23.4 in /Library/Frameworks/Python.framework/Versions/3.12/lib/python3.12/site-packages (from pydantic<3,>=1.9.0->openai) (2.23.4)\n",
            "Requirement already satisfied: PyPDF2 in /Library/Frameworks/Python.framework/Versions/3.12/lib/python3.12/site-packages (3.0.1)\n",
            "Requirement already satisfied: faiss-cpu in /Library/Frameworks/Python.framework/Versions/3.12/lib/python3.12/site-packages (1.9.0)\n",
            "Requirement already satisfied: numpy<3.0,>=1.25.0 in /Library/Frameworks/Python.framework/Versions/3.12/lib/python3.12/site-packages (from faiss-cpu) (1.26.4)\n",
            "Requirement already satisfied: packaging in /Users/dhiveshakilan/Library/Python/3.12/lib/python/site-packages (from faiss-cpu) (24.1)\n",
            "Requirement already satisfied: tiktoken in /Library/Frameworks/Python.framework/Versions/3.12/lib/python3.12/site-packages (0.8.0)\n",
            "Requirement already satisfied: regex>=2022.1.18 in /Library/Frameworks/Python.framework/Versions/3.12/lib/python3.12/site-packages (from tiktoken) (2024.9.11)\n",
            "Requirement already satisfied: requests>=2.26.0 in /Library/Frameworks/Python.framework/Versions/3.12/lib/python3.12/site-packages (from tiktoken) (2.32.3)\n",
            "Requirement already satisfied: charset-normalizer<4,>=2 in /Library/Frameworks/Python.framework/Versions/3.12/lib/python3.12/site-packages (from requests>=2.26.0->tiktoken) (3.4.0)\n",
            "Requirement already satisfied: idna<4,>=2.5 in /Library/Frameworks/Python.framework/Versions/3.12/lib/python3.12/site-packages (from requests>=2.26.0->tiktoken) (3.10)\n",
            "Requirement already satisfied: urllib3<3,>=1.21.1 in /Library/Frameworks/Python.framework/Versions/3.12/lib/python3.12/site-packages (from requests>=2.26.0->tiktoken) (2.2.3)\n",
            "Requirement already satisfied: certifi>=2017.4.17 in /Library/Frameworks/Python.framework/Versions/3.12/lib/python3.12/site-packages (from requests>=2.26.0->tiktoken) (2024.8.30)\n",
            "Requirement already satisfied: Flask in /Library/Frameworks/Python.framework/Versions/3.12/lib/python3.12/site-packages (3.0.3)\n",
            "Requirement already satisfied: Werkzeug>=3.0.0 in /Library/Frameworks/Python.framework/Versions/3.12/lib/python3.12/site-packages (from Flask) (3.0.4)\n",
            "Requirement already satisfied: Jinja2>=3.1.2 in /Library/Frameworks/Python.framework/Versions/3.12/lib/python3.12/site-packages (from Flask) (3.1.4)\n",
            "Requirement already satisfied: itsdangerous>=2.1.2 in /Library/Frameworks/Python.framework/Versions/3.12/lib/python3.12/site-packages (from Flask) (2.2.0)\n",
            "Requirement already satisfied: click>=8.1.3 in /Library/Frameworks/Python.framework/Versions/3.12/lib/python3.12/site-packages (from Flask) (8.1.7)\n",
            "Requirement already satisfied: blinker>=1.6.2 in /Library/Frameworks/Python.framework/Versions/3.12/lib/python3.12/site-packages (from Flask) (1.8.2)\n",
            "Requirement already satisfied: MarkupSafe>=2.0 in /Library/Frameworks/Python.framework/Versions/3.12/lib/python3.12/site-packages (from Jinja2>=3.1.2->Flask) (3.0.1)\n"
          ]
        }
      ],
      "source": [
        "!pip3 install langchain\n",
        "!pip3 install -U langchain-community\n",
        "!pip3 install openai\n",
        "!pip3 install PyPDF2\n",
        "!pip3 install faiss-cpu\n",
        "!pip3 install tiktoken\n",
        "!pip3 install Flask"
      ]
    },
    {
      "cell_type": "code",
      "execution_count": 3,
      "metadata": {
        "id": "v8fCmC-6Q3pP"
      },
      "outputs": [],
      "source": [
        "from PyPDF2 import PdfReader\n",
        "from langchain.embeddings.openai import OpenAIEmbeddings\n",
        "from langchain.text_splitter import CharacterTextSplitter\n",
        "from langchain.vectorstores import FAISS"
      ]
    },
    {
      "cell_type": "code",
      "execution_count": 4,
      "metadata": {
        "id": "Po-ip1fPSonv"
      },
      "outputs": [],
      "source": [
        "from langchain.chains.question_answering import load_qa_chain\n",
        "from langchain.llms import OpenAI\n",
        "from flask import Flask, request, jsonify, render_template\n",
        "import base64\n",
        "import requests\n",
        "import smtplib\n",
        "from email.mime.text import MIMEText\n",
        "import uuid\n",
        "import openai\n",
        "import json\n",
        "import re\n",
        "import os"
      ]
    },
    {
      "cell_type": "code",
      "execution_count": 5,
      "metadata": {
        "id": "_aQ7ps_dRJOq"
      },
      "outputs": [],
      "source": [
        "with open('/Users/dhiveshakilan/Learning/Python/AI/IntelliAISupport/key.json') as f:\n",
        "    key=json.load(f)\n",
        "\n",
        "os.environ[\"OPENAI_API_KEY\"] = key['API_KEY'] \n"
      ]
    },
    {
      "cell_type": "code",
      "execution_count": 6,
      "metadata": {
        "colab": {
          "base_uri": "https://localhost:8080/"
        },
        "id": "_FA1ZERdRLAM",
        "outputId": "99e97338-760a-4403-cd52-b9704823e22e"
      },
      "outputs": [],
      "source": [
        "file_path= '/Users/dhiveshakilan/Learning/Python/AI/IntelliAISupport/Info Doc/'\n",
        "\n",
        "# List of PDF files\n",
        "pdf_files = ['AMGEO.pdf','Eliot.pdf','Error.pdf','Ole_feeding.pdf','role_access.pdf', 'gop_access.pdf']  # Add more PDF paths as needed\n",
        "\n",
        "# Concatenate all the content from multiple PDFs\n",
        "raw_text = ''\n",
        "\n",
        "# Loop through each PDF file\n"
      ]
    },
    {
      "cell_type": "code",
      "execution_count": 7,
      "metadata": {},
      "outputs": [
        {
          "name": "stdout",
          "output_type": "stream",
          "text": [
            "AMGEO:AMGEO batch running on dev124 —> dev124 outbound files created —> outbound folder—>sent to VM dev89 via for—> this file will be present in outbound folder of dev89 —>CSSS process send the file to CTM —> Match processing done in CTM —> CTM sends file with matched details the VM —> File will be present in inbound folder of VM —> FTR batch sends this file from VM to inbound folder of dev124 —> this inbound file is pocked by the AMGEO batch.Overview about Eliot Application: • Eliot is the main and official application for Equity and Derivative deals management.  • Predominantly, Eliot manages Middle Office functions for Deal capture & Enrichment, Deal Life Cycle Management, position management etc.  • It helps in providing data to other Risk & Accounting applications and provide deal data to BO Application for further processing and settlements.Solution for user error messages:anupriyam has No Modification Habilitation on PRO/TSF Flow. -> If user encounters this error then it means no access to PRO/TSF Flow. To access this you can add this role in user specific role —> MAJ_FLOW_TSF_SHBYou aren’t allowed to do select with portfolio = FX-GY-NOMGT —> If user encounters this error then it means no access to this gop. To access the deal comes under this gop we need to add this gop in Perimeter screen.OLE Feeding: • OLE is part of the Back Office responsible for handling Clearing Security Deals and Regular Market Deals.Job Details • Frequency: Every 30 minutes • Autosys Job Name: ELTC-ELI-OLE • Shell Script: eli_ole.sh • Server: dev124Solution for user error messages:{\"Role\": \"DELETE_FLUX_X\", \"Description\": \"Delete flows via excel\", \"Keywords\": \"delete, flows, excel, not allowed to delete flows, no permission for deleting flows\"},    {\"Role\": \"DELETE_OLD_DEAL_X\", \"Description\": \"Massive delete old deal x\", \"Keywords\": \"delete, old deals, massive delete, no permission for deleting deals, delete deal, not allowed to delete deals\"},    {\"Role\": \"MAJ_FLOW_CVA\", \"Description\": \"Input of CVA Flows\", \"Keywords\": \"CVA, CVA flows, no access for CVA flows, unable to input CVA data\"},    {\"Role\": \"MAJ_FLOW_OPERATIONEL\", \"Description\": \"Input of AJT, CLR, MTM Flows\", \"Keywords\": \"AJT flows, CLR flows, MTM flows, no permission for AJT, no access for CLR, unable to input MTM data, AJT, CLR, MTM\"},    {\"Role\": \"MAJ_FLOW_TRESORESULT\", \"Description\": \"Input of FOR, RES, SAF, FIN, EMB, EMD Flows\", \"Keywords\": \"treasury result flows, FOR, RES, SAF, FIN, EMB, EMD, no permission for treasury flows, not allowed to input FOR data\"},    {\"Role\": \"MAJ_FLOW_TSF_SHB\", \"Description\": \"Input of TSF/SHB Flows\", \"Keywords\": \"TSF, TSF flows, SHB flows, no access to TSF/SHB, unable to input TSF/SHB data\"},    {\"Role\": \"RESULTAT_VALO\", \"Description\": \"Input of RHE, REM Flows\", \"Keywords\": \"RHE, RHE flows, REM flows, not allowed to input RHE/REM flows, no access for RHE/REM flows\"},    {\"Role\": \"MAJ_FLOW_FLX\", \"Description\": \"Input of FLX Flows\", \"Keywords\": \"FLX, FLX flows, no permission for FLX flows, not allowed to input FLX data\"},    {\"Role\": \"MAJ_FLOW_WHT\", \"Description\": \"Input of WHT Flows\", \"Keywords\": \"WHT, WHT flows, no access to WHT flows, unable to input WHT data\"}anupriyam has No Modification Habilitation on PRO/TSF Flow. -> If user encounters this error then it means no access to PRO/TSF Flow. To access this you can add this role in user specific role —> MAJ_FLOW_TSF_SHBGop/Portfolio error:You aren’t allowed to do select with portfolio = FX-GY-NOMGT —> If user encounters this error then it means no access to this gop. To access the deal comes under this gop we need to add this gop in Perimeter screen.\n"
          ]
        }
      ],
      "source": [
        "for pdf_file in pdf_files:\n",
        "    pdf = file_path+pdf_file\n",
        "    pdfreader = PdfReader(pdf)\n",
        "\n",
        "    # Read and extract text from each page in the PDF\n",
        "    for i, page in enumerate(pdfreader.pages):\n",
        "        content = page.extract_text()\n",
        "        if content:\n",
        "            raw_text += content\n",
        "\n",
        "# Now 'raw_text' contains all the concatenated text from multiple PDF files\n",
        "print(raw_text)\n"
      ]
    },
    {
      "cell_type": "code",
      "execution_count": 8,
      "metadata": {
        "colab": {
          "base_uri": "https://localhost:8080/",
          "height": 137
        },
        "id": "yGlxUMl-Rsmy",
        "outputId": "03aba767-7a08-4930-e5de-090f3c6fc693"
      },
      "outputs": [
        {
          "data": {
            "text/plain": [
              "'AMGEO:AMGEO batch running on dev124 —> dev124 outbound files created —> outbound folder—>sent to VM dev89 via for—> this file will be present in outbound folder of dev89 —>CSSS process send the file to CTM —> Match processing done in CTM —> CTM sends file with matched details the VM —> File will be present in inbound folder of VM —> FTR batch sends this file from VM to inbound folder of dev124 —> this inbound file is pocked by the AMGEO batch.Overview about Eliot Application: • Eliot is the main and official application for Equity and Derivative deals management.  • Predominantly, Eliot manages Middle Office functions for Deal capture & Enrichment, Deal Life Cycle Management, position management etc.  • It helps in providing data to other Risk & Accounting applications and provide deal data to BO Application for further processing and settlements.Solution for user error messages:anupriyam has No Modification Habilitation on PRO/TSF Flow. -> If user encounters this error then it means no access to PRO/TSF Flow. To access this you can add this role in user specific role —> MAJ_FLOW_TSF_SHBYou aren’t allowed to do select with portfolio = FX-GY-NOMGT —> If user encounters this error then it means no access to this gop. To access the deal comes under this gop we need to add this gop in Perimeter screen.OLE Feeding: • OLE is part of the Back Office responsible for handling Clearing Security Deals and Regular Market Deals.Job Details • Frequency: Every 30 minutes • Autosys Job Name: ELTC-ELI-OLE • Shell Script: eli_ole.sh • Server: dev124Solution for user error messages:{\"Role\": \"DELETE_FLUX_X\", \"Description\": \"Delete flows via excel\", \"Keywords\": \"delete, flows, excel, not allowed to delete flows, no permission for deleting flows\"},    {\"Role\": \"DELETE_OLD_DEAL_X\", \"Description\": \"Massive delete old deal x\", \"Keywords\": \"delete, old deals, massive delete, no permission for deleting deals, delete deal, not allowed to delete deals\"},    {\"Role\": \"MAJ_FLOW_CVA\", \"Description\": \"Input of CVA Flows\", \"Keywords\": \"CVA, CVA flows, no access for CVA flows, unable to input CVA data\"},    {\"Role\": \"MAJ_FLOW_OPERATIONEL\", \"Description\": \"Input of AJT, CLR, MTM Flows\", \"Keywords\": \"AJT flows, CLR flows, MTM flows, no permission for AJT, no access for CLR, unable to input MTM data, AJT, CLR, MTM\"},    {\"Role\": \"MAJ_FLOW_TRESORESULT\", \"Description\": \"Input of FOR, RES, SAF, FIN, EMB, EMD Flows\", \"Keywords\": \"treasury result flows, FOR, RES, SAF, FIN, EMB, EMD, no permission for treasury flows, not allowed to input FOR data\"},    {\"Role\": \"MAJ_FLOW_TSF_SHB\", \"Description\": \"Input of TSF/SHB Flows\", \"Keywords\": \"TSF, TSF flows, SHB flows, no access to TSF/SHB, unable to input TSF/SHB data\"},    {\"Role\": \"RESULTAT_VALO\", \"Description\": \"Input of RHE, REM Flows\", \"Keywords\": \"RHE, RHE flows, REM flows, not allowed to input RHE/REM flows, no access for RHE/REM flows\"},    {\"Role\": \"MAJ_FLOW_FLX\", \"Description\": \"Input of FLX Flows\", \"Keywords\": \"FLX, FLX flows, no permission for FLX flows, not allowed to input FLX data\"},    {\"Role\": \"MAJ_FLOW_WHT\", \"Description\": \"Input of WHT Flows\", \"Keywords\": \"WHT, WHT flows, no access to WHT flows, unable to input WHT data\"}anupriyam has No Modification Habilitation on PRO/TSF Flow. -> If user encounters this error then it means no access to PRO/TSF Flow. To access this you can add this role in user specific role —> MAJ_FLOW_TSF_SHBGop/Portfolio error:You aren’t allowed to do select with portfolio = FX-GY-NOMGT —> If user encounters this error then it means no access to this gop. To access the deal comes under this gop we need to add this gop in Perimeter screen.'"
            ]
          },
          "execution_count": 8,
          "metadata": {},
          "output_type": "execute_result"
        }
      ],
      "source": [
        "raw_text"
      ]
    },
    {
      "cell_type": "code",
      "execution_count": 9,
      "metadata": {
        "id": "VP6ap_PSRt7s"
      },
      "outputs": [],
      "source": [
        "# We need to split the text using Character Text Split such that it sshould not increse token size\n",
        "text_splitter = CharacterTextSplitter(\n",
        "    separator = \"\\n\",\n",
        "    chunk_size = 800,\n",
        "    chunk_overlap  = 200,\n",
        "    length_function = len,\n",
        ")\n",
        "texts = text_splitter.split_text(raw_text)"
      ]
    },
    {
      "cell_type": "code",
      "execution_count": 10,
      "metadata": {
        "colab": {
          "base_uri": "https://localhost:8080/"
        },
        "id": "i9GLXwH1SVOe",
        "outputId": "aa5dbd08-b234-4582-e739-103836829b91"
      },
      "outputs": [
        {
          "data": {
            "text/plain": [
              "1"
            ]
          },
          "execution_count": 10,
          "metadata": {},
          "output_type": "execute_result"
        }
      ],
      "source": [
        "len(texts)"
      ]
    },
    {
      "cell_type": "code",
      "execution_count": 11,
      "metadata": {
        "colab": {
          "base_uri": "https://localhost:8080/"
        },
        "id": "wqy4vJhrSXUT",
        "outputId": "f5aabe19-a759-4f10-f0be-506eb33290de"
      },
      "outputs": [
        {
          "name": "stderr",
          "output_type": "stream",
          "text": [
            "/var/folders/yy/bjx87s_s3_j5r1yvqr9nvt680000gn/T/ipykernel_27710/939171391.py:2: LangChainDeprecationWarning: The class `OpenAIEmbeddings` was deprecated in LangChain 0.0.9 and will be removed in 1.0. An updated version of the class exists in the :class:`~langchain-openai package and should be used instead. To use it run `pip install -U :class:`~langchain-openai` and import as `from :class:`~langchain_openai import OpenAIEmbeddings``.\n",
            "  embeddings = OpenAIEmbeddings()\n"
          ]
        }
      ],
      "source": [
        "# Download embeddings from OpenAI\n",
        "embeddings = OpenAIEmbeddings()"
      ]
    },
    {
      "cell_type": "code",
      "execution_count": 12,
      "metadata": {
        "id": "3igYiWjISjvS"
      },
      "outputs": [],
      "source": [
        "document_search = FAISS.from_texts(texts, embeddings)"
      ]
    },
    {
      "cell_type": "code",
      "execution_count": 13,
      "metadata": {
        "colab": {
          "base_uri": "https://localhost:8080/"
        },
        "id": "6bJpE1qlSlNb",
        "outputId": "b5bc24a8-ab48-45d3-ae2c-e4e2ed810680"
      },
      "outputs": [
        {
          "data": {
            "text/plain": [
              "<langchain_community.vectorstores.faiss.FAISS at 0x117170170>"
            ]
          },
          "execution_count": 13,
          "metadata": {},
          "output_type": "execute_result"
        }
      ],
      "source": [
        "document_search\n"
      ]
    },
    {
      "cell_type": "code",
      "execution_count": 14,
      "metadata": {
        "colab": {
          "base_uri": "https://localhost:8080/"
        },
        "id": "iYl2PzKSSqg0",
        "outputId": "d3d48af4-174a-4ac8-b14b-78d63bc2b3e1"
      },
      "outputs": [
        {
          "name": "stderr",
          "output_type": "stream",
          "text": [
            "/var/folders/yy/bjx87s_s3_j5r1yvqr9nvt680000gn/T/ipykernel_27710/474082722.py:1: LangChainDeprecationWarning: The class `OpenAI` was deprecated in LangChain 0.0.10 and will be removed in 1.0. An updated version of the class exists in the :class:`~langchain-openai package and should be used instead. To use it run `pip install -U :class:`~langchain-openai` and import as `from :class:`~langchain_openai import OpenAI``.\n",
            "  chain = load_qa_chain(OpenAI(temperature = 0.5), chain_type=\"stuff\")\n",
            "/var/folders/yy/bjx87s_s3_j5r1yvqr9nvt680000gn/T/ipykernel_27710/474082722.py:1: LangChainDeprecationWarning: This class is deprecated. See the following migration guides for replacements based on `chain_type`:\n",
            "stuff: https://python.langchain.com/docs/versions/migrating_chains/stuff_docs_chain\n",
            "map_reduce: https://python.langchain.com/docs/versions/migrating_chains/map_reduce_chain\n",
            "refine: https://python.langchain.com/docs/versions/migrating_chains/refine_chain\n",
            "map_rerank: https://python.langchain.com/docs/versions/migrating_chains/map_rerank_docs_chain\n",
            "\n",
            "See also guides on retrieval and question-answering here: https://python.langchain.com/docs/how_to/#qa-with-rag\n",
            "  chain = load_qa_chain(OpenAI(temperature = 0.5), chain_type=\"stuff\")\n"
          ]
        }
      ],
      "source": [
        "chain = load_qa_chain(OpenAI(temperature = 0.5), chain_type=\"stuff\")"
      ]
    },
    {
      "cell_type": "code",
      "execution_count": 15,
      "metadata": {},
      "outputs": [
        {
          "name": "stdout",
          "output_type": "stream",
          "text": [
            " * Serving Flask app '__main__'\n",
            " * Debug mode: on\n"
          ]
        },
        {
          "name": "stderr",
          "output_type": "stream",
          "text": [
            "\u001b[31m\u001b[1mWARNING: This is a development server. Do not use it in a production deployment. Use a production WSGI server instead.\u001b[0m\n",
            " * Running on http://127.0.0.1:5000\n",
            "\u001b[33mPress CTRL+C to quit\u001b[0m\n",
            " * Restarting with stat\n",
            "Traceback (most recent call last):\n",
            "  File \"<frozen runpy>\", line 198, in _run_module_as_main\n",
            "  File \"<frozen runpy>\", line 88, in _run_code\n",
            "  File \"/Users/dhiveshakilan/Library/Python/3.12/lib/python/site-packages/ipykernel_launcher.py\", line 18, in <module>\n",
            "    app.launch_new_instance()\n",
            "  File \"/Users/dhiveshakilan/Library/Python/3.12/lib/python/site-packages/traitlets/config/application.py\", line 1074, in launch_instance\n",
            "    app.initialize(argv)\n",
            "  File \"/Users/dhiveshakilan/Library/Python/3.12/lib/python/site-packages/traitlets/config/application.py\", line 118, in inner\n",
            "    return method(app, *args, **kwargs)\n",
            "           ^^^^^^^^^^^^^^^^^^^^^^^^^^^^\n",
            "  File \"/Users/dhiveshakilan/Library/Python/3.12/lib/python/site-packages/ipykernel/kernelapp.py\", line 692, in initialize\n",
            "    self.init_sockets()\n",
            "  File \"/Users/dhiveshakilan/Library/Python/3.12/lib/python/site-packages/ipykernel/kernelapp.py\", line 331, in init_sockets\n",
            "    self.shell_port = self._bind_socket(self.shell_socket, self.shell_port)\n",
            "                      ^^^^^^^^^^^^^^^^^^^^^^^^^^^^^^^^^^^^^^^^^^^^^^^^^^^^^\n",
            "  File \"/Users/dhiveshakilan/Library/Python/3.12/lib/python/site-packages/ipykernel/kernelapp.py\", line 253, in _bind_socket\n",
            "    return self._try_bind_socket(s, port)\n",
            "           ^^^^^^^^^^^^^^^^^^^^^^^^^^^^^^\n",
            "  File \"/Users/dhiveshakilan/Library/Python/3.12/lib/python/site-packages/ipykernel/kernelapp.py\", line 229, in _try_bind_socket\n",
            "    s.bind(\"tcp://%s:%i\" % (self.ip, port))\n",
            "  File \"/Users/dhiveshakilan/Library/Python/3.12/lib/python/site-packages/zmq/sugar/socket.py\", line 311, in bind\n",
            "    super().bind(addr)\n",
            "  File \"_zmq.py\", line 917, in zmq.backend.cython._zmq.Socket.bind\n",
            "  File \"_zmq.py\", line 179, in zmq.backend.cython._zmq._check_rc\n",
            "zmq.error.ZMQError: Address already in use (addr='tcp://127.0.0.1:9052')\n"
          ]
        },
        {
          "ename": "SystemExit",
          "evalue": "1",
          "output_type": "error",
          "traceback": [
            "An exception has occurred, use %tb to see the full traceback.\n",
            "\u001b[0;31mSystemExit\u001b[0m\u001b[0;31m:\u001b[0m 1\n"
          ]
        },
        {
          "name": "stderr",
          "output_type": "stream",
          "text": [
            "/Users/dhiveshakilan/Library/Python/3.12/lib/python/site-packages/IPython/core/interactiveshell.py:3585: UserWarning: To exit: use 'exit', 'quit', or Ctrl-D.\n",
            "  warn(\"To exit: use 'exit', 'quit', or Ctrl-D.\", stacklevel=1)\n"
          ]
        }
      ],
      "source": [
        "app = Flask(__name__)\n",
        "\n",
        "gop_data = [\n",
        "    {\n",
        "        \"DPS\": [\n",
        "            {\"Portfolio\": \"PDS_ABC\", \"Status\": \"Active\"},\n",
        "            {\"Portfolio\": \"PDS_XYZ\", \"Status\": \"Active\"},\n",
        "            {\"Portfolio\": \"PDS_DEF\", \"Status\": \"Active\"},\n",
        "            {\"Portfolio\": \"PDS_DEY\", \"Status\": \"Not Active\"}\n",
        "        ],\n",
        "        \"XYZ\": [\n",
        "            {\"Portfolio\": \"XYZ_ABC\", \"Status\": \"Active\"}\n",
        "        ],\n",
        "        \"FX\" : [\n",
        "            {\"Portfolio\": \"FX-GY-NOMGT\", \"Status\": \"Active\"}\n",
        "        ],\n",
        "        \"SNIKO\" : [\n",
        "            {\"Portfolio\": \"SN-FX-GY\", \"Status\": \"Active\"}\n",
        "        ]\n",
        "    }\n",
        "]\n",
        "\n",
        "roles_data = [\n",
        "    {\"Role\": \"DELETE_FLUX_X\", \"Description\": \"Delete flows via excel\", \"Keywords\": \"delete, flows, excel, not allowed to delete flows, no permission for deleting flows\"},\n",
        "    {\"Role\": \"DELETE_OLD_DEAL_X\", \"Description\": \"Massive delete old deal x\", \"Keywords\": \"delete, old deals, massive delete, no permission for deleting deals, delete deal, not allowed to delete deals\"},\n",
        "    {\"Role\": \"MAJ_FLOW_CVA\", \"Description\": \"Input of CVA Flows\", \"Keywords\": \"CVA, CVA flows, no access for CVA flows, unable to input CVA data\"},\n",
        "    {\"Role\": \"MAJ_FLOW_OPERATIONEL\", \"Description\": \"Input of AJT, CLR, MTM Flows\", \"Keywords\": \"AJT flows, CLR flows, MTM flows, no permission for AJT, no access for CLR, unable to input MTM data, AJT, CLR, MTM\"},\n",
        "    {\"Role\": \"MAJ_FLOW_TRESORESULT\", \"Description\": \"Input of FOR, RES, SAF, FIN, EMB, EMD Flows\", \"Keywords\": \"treasury result flows, FOR, RES, SAF, FIN, EMB, EMD, no permission for treasury flows, not allowed to input FOR data\"},\n",
        "    {\"Role\": \"MAJ_FLOW_TSF_SHB\", \"Description\": \"Input of TSF/SHB Flows\", \"Keywords\": \"TSF, TSF flows, SHB flows, no access to TSF/SHB, unable to input TSF/SHB data\"},\n",
        "    {\"Role\": \"RESULTAT_VALO\", \"Description\": \"Input of RHE, REM Flows\", \"Keywords\": \"RHE, RHE flows, REM flows, not allowed to input RHE/REM flows, no access for RHE/REM flows\"},\n",
        "    {\"Role\": \"MAJ_FLOW_FLX\", \"Description\": \"Input of FLX Flows\", \"Keywords\": \"FLX, FLX flows, no permission for FLX flows, not allowed to input FLX data\"},\n",
        "    {\"Role\": \"MAJ_FLOW_WHT\", \"Description\": \"Input of WHT Flows\", \"Keywords\": \"WHT, WHT flows, no access to WHT flows, unable to input WHT data\"}\n",
        "]\n",
        "\n",
        "counterpart_data = []\n",
        "\n",
        "# Function to encode the image\n",
        "def encode_image(image_path):\n",
        "    with open(image_path, \"rb\") as image_file:\n",
        "        return base64.b64encode(image_file.read()).decode('utf-8')\n",
        "\n",
        "def langchain_doc(query):\n",
        "    docs = document_search.similarity_search(query)\n",
        "    r=chain.run(input_documents=docs, question=query)\n",
        "    return r\n",
        "\n",
        "# Function to match user query with role keywords using partial matching\n",
        "def match_role(role, roles_data):\n",
        "    for i in range(len(roles_data)):\n",
        "        if role.trim() in roles_data[i]['Role']:\n",
        "            return roles_data[i]['Role'],roles_data[i]['Description']\n",
        "    return \"No matching role found.\", \"No description available\"\n",
        "\n",
        "def find_gop_using_ptf(user_query, gop_data):\n",
        "    found_gop=None\n",
        "    for gop_dict in gop_data:\n",
        "        for gop_name, portfolios in gop_dict.items():\n",
        "            for portfolio_info in portfolios:\n",
        "                if portfolio_info[\"Portfolio\"] in user_query:\n",
        "                    # found_gop = {\"GOP\": gop_name, \"Portfolio\": portfolio_info}\n",
        "                    found_gop = gop_name if portfolio_info[\"Status\"] == \"Active\" else f\"{portfolio_info[\"Portfolio\"]} - Portfolio not active\"\n",
        "                    break\n",
        "    return found_gop if found_gop is not None else \"No Portfolio found.\"\n",
        "\n",
        "def match_gop(user_query, gop_data):\n",
        "    user_query = re.findall(r'\\b\\w+\\b', user_query)\n",
        "    print(user_query)\n",
        "    for gop in user_query:\n",
        "        if gop in gop_data[0].keys():\n",
        "            return gop\n",
        "    return \"No matching gop found.\"\n",
        "\n",
        "def counterpart(user_query, counterpart_data):\n",
        "    # No counterpart Found\n",
        "    return\n",
        "\n",
        "# You have not the authorization to perform this action. (technical authorizationn: RUN with discrimnant 'SNIKO' on process group 'EVENT PROCESSING')\n",
        "\n",
        "def generate_request_id():\n",
        "    return str(uuid.uuid4())\n",
        "\n",
        "@app.route('/send_email', methods = ['POST'])\n",
        "def send_approval_email():\n",
        "    sender_email = \"dhivesh18122000@gmail.com\"  # Replace with your email\n",
        "    sender_password = 'stwf byvp tuhv lskz'\n",
        "    role = request.form['role']\n",
        "    user_email = request.form['userEmail']\n",
        "    manager_email = request.form['managerEmail']\n",
        "    # confirmation_message = request.form['confirmationMessage']\n",
        "    request_id = generate_request_id()\n",
        "    subject = f\"Approval Request for {role} - Reference ID: {request_id}\"\n",
        "    \n",
        "    body = f'''Hello,\n",
        "        User {user_email} is requesting access to the role or GOP: {role}.\n",
        "        The request ID for this approval is {request_id}.\n",
        "        Please review and provide your approval.\n",
        "        Sincerely, \n",
        "        Eliot Team'''\n",
        "    \n",
        "    msg = MIMEText(body)\n",
        "    msg['Subject'] = subject\n",
        "    msg['From'] = sender_email\n",
        "    msg['To'] = manager_email\n",
        "\n",
        "    try:\n",
        "        with smtplib.SMTP('smtp.gmail.com', 587) as server:\n",
        "            server.starttls()\n",
        "            server.login(sender_email, sender_password)\n",
        "            server.send_message(msg)\n",
        "        return jsonify({'status': 'success', 'message': 'Approval email sent successfully.'})\n",
        "    \n",
        "    except Exception as e:\n",
        "        return jsonify({'status': 'error', 'message': str(e)})\n",
        "\n",
        "@app.route('/')\n",
        "def index():\n",
        "    return render_template('index.html')\n",
        "\n",
        "@app.route('/image_to_text', methods=['POST'])\n",
        "def extract_and_match():\n",
        "    if 'image' not in request.files:\n",
        "        return jsonify({\"error\": \"No image part found\"}), 400\n",
        "    \n",
        "    file = request.files['image']\n",
        "    \n",
        "    if file.filename == '':\n",
        "        return jsonify({\"error\": \"No image file selected\"}), 400\n",
        "    \n",
        "    # Save the file temporarily\n",
        "    file_path = '/tmp/' + file.filename\n",
        "    file.save(file_path)\n",
        "    \n",
        "    base64_image = encode_image(file_path)\n",
        "\n",
        "    headers = {\n",
        "        \"Content-Type\": \"application/json\",\n",
        "        \"Authorization\": f\"Bearer {os.getenv(\"OPENAI_API_KEY\")}\"\n",
        "    }\n",
        "\n",
        "    payload = {\n",
        "        \"model\": \"gpt-4o-mini\",\n",
        "        \"messages\": [\n",
        "            {\n",
        "                \"role\": \"user\",\n",
        "                \"content\": [\n",
        "                    {\n",
        "                        \"type\": \"text\",\n",
        "                        \"text\": \"Extract only the error message text from this image.\"\n",
        "                    },\n",
        "                    {\n",
        "                        \"type\": \"image_url\",\n",
        "                        \"image_url\": {\n",
        "                            \"url\": f\"data:image/jpeg;base64,{base64_image}\"\n",
        "                        }\n",
        "                    }\n",
        "                ]\n",
        "            }\n",
        "        ],\n",
        "        \"max_tokens\": 300\n",
        "    }\n",
        "\n",
        "    response = requests.post(\"https://api.openai.com/v1/chat/completions\", headers=headers, json=payload)\n",
        "\n",
        "    if response.status_code == 429:\n",
        "        return jsonify({\"error\": \"Rate limit exceeded. Please try again later.\"}), 429\n",
        "\n",
        "    if response.status_code != 200:\n",
        "        return jsonify({\"error\": f\"API request failed with status code {response.status_code}\", \"details\": response.json()}), response.status_code\n",
        "\n",
        "    try:\n",
        "        response_json = response.json()\n",
        "        user_query = response_json['choices'][0]['message']['content']\n",
        "    except KeyError:\n",
        "        return jsonify({\"error\": \"Failed to parse response\", \"response\": response.json()}), 500\n",
        "\n",
        "    if not user_query:\n",
        "        return jsonify({\"error\": \"No message extracted\"}), 400\n",
        "# query = \"anupriyam has No Modification Habilitation on MAJ_FLOW_CVA Flow.\"\n",
        "\n",
        "    query = \"Why I am getting this message - \"+user_query \n",
        "    r=langchain_doc(query)\n",
        "# q = f\"Only return the portfolio name from this response: {r}\"\n",
        "    \n",
        "    if 'role' in r.lower():\n",
        "        q = f\"Only return the role name from this response: {r}\"\n",
        "        matching_role, description = match_role(langchain_doc(q),roles_data)\n",
        "    elif 'Portfolio' in user_query:\n",
        "        matching_role = find_gop_using_ptf(user_query, gop_data)\n",
        "        response_message = f\"Matching Portfolio GOP: {matching_role}\"\n",
        "    elif 'Counterpart' in user_query.lower():\n",
        "        matching_role = counterpart(user_query, counterpart_data)\n",
        "        response_message = f\"Eliot Code is: {matching_role}\"\n",
        "    else:\n",
        "        matching_role = match_gop(user_query, gop_data)\n",
        "        response_message = f\"Matching GOP: {matching_role}\"\n",
        "\n",
        "    return jsonify({\n",
        "        \"extracted_message\": user_query,\n",
        "        \"response_message\": response_message\n",
        "    })\n",
        "\n",
        "@app.route('/text_to_role', methods=['POST'])\n",
        "def text_to_role():\n",
        "    text_message = request.form.get('textMessage', '')\n",
        "    \n",
        "    if not text_message:\n",
        "        return jsonify({\"error\": \"No text message provided\"}), 400\n",
        "    \n",
        "    query = \"Why I am getting this message - \"+text_message \n",
        "    r=langchain_doc(query)\n",
        "# q = f\"Only return the portfolio name from this response: {r}\"\n",
        "    \n",
        "    if 'role' in r.lower():\n",
        "        q = f\"Only return the role name from this response: {r}\"\n",
        "        matching_role, description = match_role(langchain_doc(q),roles_data)\n",
        "    elif 'Portfolio' in text_message.lower():\n",
        "        matching_role = find_gop_using_ptf(text_message, gop_data)\n",
        "        response_message = f\"Matching Portfolio GOP: {matching_role}\"\n",
        "    elif 'Counterpart' in text_message.lower():\n",
        "        matching_role = counterpart(text_message, counterpart_data)\n",
        "        response_message = f\"Eliot Code is: {matching_role}\"\n",
        "    else:\n",
        "        matching_role = match_gop(text_message, gop_data)\n",
        "        response_message = f\"Matching GOP: {matching_role}\"\n",
        "\n",
        "    return jsonify({\n",
        "        \"extracted_message\": text_message,\n",
        "        \"response_message\": response_message\n",
        "    })\n",
        "if __name__ == '__main__':\n",
        "    app.run(debug=True)\n",
        "\n"
      ]
    },
    {
      "cell_type": "code",
      "execution_count": 27,
      "metadata": {
        "colab": {
          "base_uri": "https://localhost:8080/",
          "height": 123
        },
        "id": "GQafhpOz4IsV",
        "outputId": "ce506da4-c629-478c-8a6a-26ad6e4bec4f"
      },
      "outputs": [
        {
          "name": "stderr",
          "output_type": "stream",
          "text": [
            "/var/folders/yy/bjx87s_s3_j5r1yvqr9nvt680000gn/T/ipykernel_26517/3475382305.py:4: LangChainDeprecationWarning: The method `Chain.run` was deprecated in langchain 0.1.0 and will be removed in 1.0. Use :meth:`~invoke` instead.\n",
            "  r=chain.run(input_documents=docs, question=query)\n"
          ]
        },
        {
          "name": "stdout",
          "output_type": "stream",
          "text": [
            " If user encounters this error, it means they do not have access to the MAJ_FLOW_CVA Flow. To access this, you can add this role in their specific user role: MAJ_FLOW_CVA.\n",
            "Only return the role name from this response:  If user encounters this error, it means they do not have access to the MAJ_FLOW_CVA Flow. To access this, you can add this role in their specific user role: MAJ_FLOW_CVA.\n"
          ]
        },
        {
          "data": {
            "text/plain": [
              "' MAJ_FLOW_CVA'"
            ]
          },
          "execution_count": 27,
          "metadata": {},
          "output_type": "execute_result"
        }
      ],
      "source": [
        "# # query = \"You aren’t allowed to do select with portfolio = SN-FX-GY\"\n",
        "# query = \"anupriyam has No Modification Habilitation on MAJ_FLOW_CVA Flow.\"\n",
        "# docs = document_search.similarity_search(query)\n",
        "# r=chain.run(input_documents=docs, question=query)\n",
        "# print(r)\n",
        "# # q = f\"Only return the portfolio name from this response: {r}\"\n",
        "# q = f\"Only return the role name from this response: {r}\"\n",
        "# print(q)\n",
        "# chain.run(input_documents=docs, question=q)"
      ]
    },
    {
      "cell_type": "code",
      "execution_count": 28,
      "metadata": {
        "colab": {
          "base_uri": "https://localhost:8080/",
          "height": 103
        },
        "id": "7sjc1Xh2SsTs",
        "outputId": "3aff1d85-137c-4128-af23-d69c3e46da48"
      },
      "outputs": [
        {
          "data": {
            "text/plain": [
              "' The AMGEO flow involves a batch running on the dev124 server, creating outbound files in the outbound folder, which are then sent to the VM dev89 via a for process. The file will be present in the outbound folder of dev89, and then the CSSS process will send the file to CTM. The file will undergo match processing in CTM, and then CTM will send the file with matched details to the VM. The file will be present in the inbound folder of the VM, and then the FTR batch will send this file from the VM to the inbound folder of dev124. Finally, the AMGEO batch will pick up the inbound file for further processing. '"
            ]
          },
          "execution_count": 28,
          "metadata": {},
          "output_type": "execute_result"
        }
      ],
      "source": [
        "# query = \"explain the amgeo flow\"\n",
        "# docs = document_search.similarity_search(query)\n",
        "# chain.run(input_documents=docs, question=query)"
      ]
    },
    {
      "cell_type": "code",
      "execution_count": 29,
      "metadata": {
        "colab": {
          "base_uri": "https://localhost:8080/",
          "height": 35
        },
        "id": "1Fo7RaEjjt9u",
        "outputId": "1940efde-26a2-44e7-e3e5-b37dbbd406f9"
      },
      "outputs": [
        {
          "data": {
            "text/plain": [
              "' The OLE process job name is ELTC-ELI-OLE and it runs every 30 minutes. The shell script used for the job is eli_ole.sh and it runs on the dev124 server. '"
            ]
          },
          "execution_count": 29,
          "metadata": {},
          "output_type": "execute_result"
        }
      ],
      "source": [
        "# query = \"give me ole process job name and job details\"\n",
        "# docs = document_search.similarity_search(query)\n",
        "# chain.run(input_documents=docs, question=query)"
      ]
    }
  ],
  "metadata": {
    "colab": {
      "provenance": []
    },
    "kernelspec": {
      "display_name": "Python 3",
      "name": "python3"
    },
    "language_info": {
      "codemirror_mode": {
        "name": "ipython",
        "version": 3
      },
      "file_extension": ".py",
      "mimetype": "text/x-python",
      "name": "python",
      "nbconvert_exporter": "python",
      "pygments_lexer": "ipython3",
      "version": "3.12.5"
    }
  },
  "nbformat": 4,
  "nbformat_minor": 0
}
